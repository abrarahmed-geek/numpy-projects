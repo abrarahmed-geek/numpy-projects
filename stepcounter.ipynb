{
 "cells": [
  {
   "cell_type": "code",
   "execution_count": 1,
   "id": "04233235-f702-48ad-b2c5-4d6f26e98768",
   "metadata": {},
   "outputs": [
    {
     "name": "stdout",
     "output_type": "stream",
     "text": [
      "Step Data (Weeks x Days):\n",
      " [[7819 7938 3095 6168 9499 9181 7140]\n",
      " [6836 8346 3336 4136 5768 8777 9625]\n",
      " [8890 6137 6312 6786 5269 3388 5158]\n",
      " [9278 3800 7857 5148 4286 8267 6714]]\n",
      "Total steps: 184954\n",
      "Average steps: 6605.5\n",
      "Max step: 9625\n",
      "Min step: 3095\n",
      "\n",
      "Cleaned Step Data (Lazy Days = 0):\n",
      " [[7819 7938    0 6168 9499 9181 7140]\n",
      " [6836 8346    0    0 5768 8777 9625]\n",
      " [8890 6137 6312 6786 5269    0 5158]\n",
      " [9278    0 7857 5148    0 8267 6714]]\n",
      "Number of lazy days: 6\n"
     ]
    }
   ],
   "source": [
    "import numpy as np\n",
    "\n",
    "# Generate step data for 4 weeks (7 days per week)\n",
    "# Each value is a random number between 3000 and 10000\n",
    "step = np.random.randint(3000, 10000, size=(4, 7))\n",
    "\n",
    "# Print the full step matrix (4 weeks x 7 days)\n",
    "print(\"Step Data (Weeks x Days):\\n\", step)\n",
    "\n",
    "# Calculate and print total steps taken in 4 weeks\n",
    "print(\"Total steps:\", np.sum(step))\n",
    "\n",
    "# Calculate and print average steps per day\n",
    "print(\"Average steps:\", np.mean(step))\n",
    "\n",
    "# Print the highest number of steps taken in a day\n",
    "print(\"Max step:\", np.max(step))\n",
    "\n",
    "# Print the lowest number of steps taken in a day\n",
    "print(\"Min step:\", np.min(step))\n",
    "\n",
    "# Identify lazy days (less than 5000 steps)\n",
    "lazy_days = step < 5000\n",
    "\n",
    "# Replace lazy days with 0\n",
    "step[lazy_days] = 0\n",
    "\n",
    "# Print cleaned data after replacing lazy days\n",
    "print(\"\\nCleaned Step Data (Lazy Days = 0):\\n\", step)\n",
    "\n",
    "# Count how many lazy days occurred in total\n",
    "number_of_lazy_days = np.sum(step == 0)\n",
    "print(\"Number of lazy days:\", number_of_lazy_days)\n"
   ]
  },
  {
   "cell_type": "code",
   "execution_count": null,
   "id": "023a4d47-3179-47dc-952a-ccf233a7929e",
   "metadata": {},
   "outputs": [],
   "source": []
  }
 ],
 "metadata": {
  "kernelspec": {
   "display_name": "Python 3 (ipykernel)",
   "language": "python",
   "name": "python3"
  },
  "language_info": {
   "codemirror_mode": {
    "name": "ipython",
    "version": 3
   },
   "file_extension": ".py",
   "mimetype": "text/x-python",
   "name": "python",
   "nbconvert_exporter": "python",
   "pygments_lexer": "ipython3",
   "version": "3.12.7"
  }
 },
 "nbformat": 4,
 "nbformat_minor": 5
}
